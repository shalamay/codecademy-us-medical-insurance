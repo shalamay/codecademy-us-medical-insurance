{
 "cells": [
  {
   "cell_type": "markdown",
   "metadata": {},
   "source": [
    "# U.S. Medical Insurance Costs"
   ]
  },
  {
   "cell_type": "markdown",
   "metadata": {},
   "source": [
    "In this study, we will analyze BMI and smoker status as these two factors affect health and could be adjusted."
   ]
  },
  {
   "cell_type": "markdown",
   "metadata": {},
   "source": [
    "First, let's import some useful libraries."
   ]
  },
  {
   "cell_type": "code",
   "execution_count": 1,
   "metadata": {},
   "outputs": [],
   "source": [
    "import csv\n",
    "import matplotlib.pyplot as plt"
   ]
  },
  {
   "cell_type": "markdown",
   "metadata": {},
   "source": [
    "Now let's see how data looks like in the insurance.csv file"
   ]
  },
  {
   "cell_type": "code",
   "execution_count": 2,
   "metadata": {
    "scrolled": true
   },
   "outputs": [
    {
     "name": "stdout",
     "output_type": "stream",
     "text": [
      "{'age': '19', 'sex': 'female', 'bmi': '27.9', 'children': '0', 'smoker': 'yes', 'region': 'southwest', 'charges': '16884.924'}\n",
      "{'age': '18', 'sex': 'male', 'bmi': '33.77', 'children': '1', 'smoker': 'no', 'region': 'southeast', 'charges': '1725.5523'}\n",
      "\n"
     ]
    }
   ],
   "source": [
    "samples = []\n",
    "\n",
    "with open('insurance.csv') as data_csv:\n",
    "    samples = list(csv.DictReader(data_csv))\n",
    "    for i in range(2):\n",
    "        print(samples[i])\n",
    "    print()"
   ]
  },
  {
   "cell_type": "markdown",
   "metadata": {},
   "source": [
    "Next I am going to convert some data to the correct format"
   ]
  },
  {
   "cell_type": "code",
   "execution_count": 3,
   "metadata": {},
   "outputs": [
    {
     "name": "stdout",
     "output_type": "stream",
     "text": [
      "{'age': 19, 'sex': 'female', 'bmi': 27.9, 'children': 0, 'smoker': 'yes', 'region': 'southwest', 'charges': 16884.924}\n",
      "{'age': 18, 'sex': 'male', 'bmi': 33.77, 'children': 1, 'smoker': 'no', 'region': 'southeast', 'charges': 1725.5523}\n"
     ]
    }
   ],
   "source": [
    "for row in samples:\n",
    "    row['age'] = int(row['age'])\n",
    "    row['bmi'] = float(row['bmi'])\n",
    "    row['children'] = int(row['children'])\n",
    "    row['charges'] = float(row['charges'])\n",
    "    \n",
    "for i in range(2):\n",
    "    print(samples[i])\n",
    "    "
   ]
  },
  {
   "cell_type": "markdown",
   "metadata": {},
   "source": [
    "Let's check the number of samples we have"
   ]
  },
  {
   "cell_type": "code",
   "execution_count": 4,
   "metadata": {},
   "outputs": [
    {
     "name": "stdout",
     "output_type": "stream",
     "text": [
      "Number of samples: 1338\n"
     ]
    }
   ],
   "source": [
    "length = len(samples)\n",
    "print('Number of samples: ' + str(length))"
   ]
  },
  {
   "cell_type": "markdown",
   "metadata": {},
   "source": [
    "Do smokers pay more?"
   ]
  },
  {
   "cell_type": "code",
   "execution_count": 5,
   "metadata": {},
   "outputs": [
    {
     "name": "stdout",
     "output_type": "stream",
     "text": [
      "average charges: 13270\n",
      "average smokers charges: 32050\n",
      "average non-smokers charges: 8434\n"
     ]
    }
   ],
   "source": [
    "def get_average_charges(samples):\n",
    "    samples_num = len(samples)\n",
    "    smokers_num = 0\n",
    "    total_charges = 0\n",
    "    smokers_charges = 0\n",
    "    for row in samples:\n",
    "        total_charges += row['charges']\n",
    "        if row['smoker'] == 'yes':\n",
    "            smokers_num += 1\n",
    "            smokers_charges += row['charges']\n",
    "    return {'average charges': total_charges / samples_num, \n",
    "            'average smokers charges': smokers_charges / smokers_num,\n",
    "            'average non-smokers charges': (total_charges - smokers_charges) / (samples_num - smokers_num)\n",
    "           }\n",
    "\n",
    "average_charges = get_average_charges(samples)\n",
    "for key in average_charges:\n",
    "    print('{}: {}'.format(key, int(average_charges[key])))\n",
    "\n"
   ]
  },
  {
   "cell_type": "markdown",
   "metadata": {},
   "source": [
    "Yes, smokers pay a lot more. Then what percentage of the sample smokes?"
   ]
  },
  {
   "cell_type": "code",
   "execution_count": 6,
   "metadata": {},
   "outputs": [
    {
     "name": "stdout",
     "output_type": "stream",
     "text": [
      "Proportion of smokers: 20.48%\n"
     ]
    }
   ],
   "source": [
    "def get_smokers_proportion(samples):\n",
    "    total = len(samples)\n",
    "    smokers = 0\n",
    "    for row in samples:\n",
    "        if row['smoker'] == 'yes':\n",
    "            smokers += 1\n",
    "    return smokers / total\n",
    "\n",
    "print('Proportion of smokers: ' + str(round(get_smokers_proportion(samples)*100,2)) + '%')\n"
   ]
  },
  {
   "cell_type": "markdown",
   "metadata": {},
   "source": [
    "So, every fifth person smokes. Is there a correlation between age and smoking?"
   ]
  },
  {
   "cell_type": "code",
   "execution_count": 7,
   "metadata": {
    "scrolled": true
   },
   "outputs": [
    {
     "data": {
      "image/png": "[encoded data removed]",
      "text/plain": [
       "<Figure size 432x288 with 1 Axes>"
      ]
     },
     "metadata": {
      "needs_background": "light"
     },
     "output_type": "display_data"
    }
   ],
   "source": [
    "def get_population_and_smokers_proportion_by_age(samples):\n",
    "    population_by_age = {}\n",
    "    smokers_by_age = {}\n",
    "    smokers_proportion_by_age = {}\n",
    "    for row in samples:\n",
    "        if row['age'] in population_by_age:\n",
    "            population_by_age[row['age']] += 1\n",
    "        else:\n",
    "            population_by_age[row['age']] = 1\n",
    "            smokers_by_age[row['age']] = 0\n",
    "        if row['smoker'] == 'yes':\n",
    "            smokers_by_age[row['age']] += 1\n",
    "    for key in population_by_age:\n",
    "        smokers_proportion_by_age[key] = smokers_by_age[key] / population_by_age[key]\n",
    "    return sorted(population_by_age.items()), sorted(smokers_proportion_by_age.items())\n",
    "\n",
    "population_by_age, smokers_proportion_by_age = get_population_and_smokers_proportion_by_age(samples)\n",
    "\n",
    "plt.plot([int(x) for x,y in population_by_age], [y for x,y in population_by_age])\n",
    "plt.plot([int(x) for x,y in smokers_proportion_by_age], [y*100 for x,y in smokers_proportion_by_age])\n",
    "plt.show()"
   ]
  },
  {
   "cell_type": "markdown",
   "metadata": {},
   "source": [
    "Looks like people in their 50s smoke less. Do smokers die at this age or have people of this generation been persuaded not to smoke? We see that the number of people at this age is really decreasing. But perhaps it makes sense to conduct a survey of people of this age and find out if they have quit smoking. If so, why? Can this be used to convince other people to quit smoking?"
   ]
  },
  {
   "cell_type": "markdown",
   "metadata": {},
   "source": [
    "Now let's analyze the BMI."
   ]
  },
  {
   "cell_type": "code",
   "execution_count": 8,
   "metadata": {
    "scrolled": true
   },
   "outputs": [
    {
     "name": "stdout",
     "output_type": "stream",
     "text": [
      "underweight\n",
      "proportion: 1.49%\n",
      "average age: 32.35\n",
      "smokers proportion: 25.0%\n",
      "average children: 1.05\n",
      "average charges: 8852\n",
      "\n",
      "normalweight\n",
      "proportion: 16.82%\n",
      "average age: 36.73\n",
      "smokers proportion: 22.22%\n",
      "average children: 1.13\n",
      "average charges: 10409\n",
      "\n",
      "overweight\n",
      "proportion: 28.85%\n",
      "average age: 38.92\n",
      "smokers proportion: 19.17%\n",
      "average children: 1.06\n",
      "average charges: 10987\n",
      "\n",
      "obese\n",
      "proportion: 52.84%\n",
      "average age: 40.34\n",
      "smokers proportion: 20.51%\n",
      "average children: 1.11\n",
      "average charges: 15552\n",
      "\n"
     ]
    }
   ],
   "source": [
    "def get_bmi_info(samples):\n",
    "    \n",
    "    info = {'underweight':{},\n",
    "            'normalweight':{},\n",
    "            'overweight':{},\n",
    "            'obese':{}}\n",
    "    info_details = {'population': 0, \n",
    "                    'proportion': 0, \n",
    "                    'total_charges': 0, \n",
    "                    'average_charges': 0, \n",
    "                    'smokers': 0, \n",
    "                    'smokers_proportion': 0, \n",
    "                    'children': 0, \n",
    "                    'average_children': 0,\n",
    "                    'total_age': 0,\n",
    "                    'average_age': 0}\n",
    "    for key in info:\n",
    "        info[key].update(info_details)\n",
    "    \n",
    "    total_population = len(samples)\n",
    "    \n",
    "    for row in samples:\n",
    "        key = ''\n",
    "        if row['bmi'] < 18.5:\n",
    "            key = 'underweight'\n",
    "        elif row['bmi'] < 25:\n",
    "            key = 'normalweight'\n",
    "        elif row['bmi'] < 30:\n",
    "            key = 'overweight'\n",
    "        else:\n",
    "            key = 'obese'\n",
    "        info[key]['population'] += 1\n",
    "        info[key]['total_charges'] += row['charges']\n",
    "        info[key]['children'] += row['children']\n",
    "        info[key]['total_age'] += row['age']\n",
    "        if row['smoker'] == 'yes':\n",
    "            info[key]['smokers'] += 1\n",
    "        \n",
    "    for key in info:\n",
    "        info[key]['average_charges'] = info[key]['total_charges'] / info[key]['population']\n",
    "        info[key]['proportion'] = info[key]['population'] / total_population\n",
    "        info[key]['smokers_proportion'] = info[key]['smokers'] / info[key]['population']\n",
    "        info[key]['average_children'] = info[key]['children'] / info[key]['population']\n",
    "        info[key]['average_age'] = info[key]['total_age'] / info[key]['population']\n",
    "    return info\n",
    "\n",
    "\n",
    "bmi_info = get_bmi_info(samples)\n",
    "for key in bmi_info:\n",
    "    print(key)\n",
    "    print('proportion: {}%'.format(round(bmi_info[key]['proportion']*100, 2)))\n",
    "    print('average age: {}'.format(round(bmi_info[key]['average_age'], 2)))\n",
    "    print('smokers proportion: {}%'.format(round(bmi_info[key]['smokers_proportion']*100, 2)))\n",
    "    print('average children: {}'.format(round(bmi_info[key]['average_children'], 2)))\n",
    "    print('average charges: {}'.format(int(bmi_info[key]['average_charges'])))\n",
    "    print()\n"
   ]
  },
  {
   "cell_type": "markdown",
   "metadata": {},
   "source": [
    "So what do we see here? First of all, we see that half of the population is obese and therefore pays more. These categories are not influenced by the number of children and smoke about the same. But we see that with age, people are prone to obesity."
   ]
  },
  {
   "cell_type": "markdown",
   "metadata": {},
   "source": [
    "The following conclusions can be drawn from this short analysis:\n",
    "\n",
    "1. People can significantly reduce their costs by quitting smoking.\n",
    "2. Society has a problem with obesity. This not only worsens people's health, but also increases their insurance costs."
   ]
  }
 ],
 "metadata": {
  "kernelspec": {
   "display_name": "Python 3",
   "language": "python",
   "name": "python3"
  },
  "language_info": {
   "codemirror_mode": {
    "name": "ipython",
    "version": 3
   },
   "file_extension": ".py",
   "mimetype": "text/x-python",
   "name": "python",
   "nbconvert_exporter": "python",
   "pygments_lexer": "ipython3",
   "version": "3.8.3"
  }
 },
 "nbformat": 4,
 "nbformat_minor": 4
}
